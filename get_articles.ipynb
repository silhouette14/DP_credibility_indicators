{
 "cells": [
  {
   "cell_type": "markdown",
   "metadata": {},
   "source": [
    "## Import libraries"
   ]
  },
  {
   "cell_type": "code",
   "execution_count": 9,
   "metadata": {},
   "outputs": [],
   "source": [
    "import pandas as pd\n",
    "import numpy as np\n",
    "import json\n",
    "import requests\n",
    "import random\n",
    "from configparser import ConfigParser"
   ]
  },
  {
   "cell_type": "markdown",
   "metadata": {},
   "source": [
    "## Credentials config parser"
   ]
  },
  {
   "cell_type": "code",
   "execution_count": 14,
   "metadata": {},
   "outputs": [],
   "source": [
    "parser = ConfigParser()\n",
    "_ = parser.read('credentials.cfg')\n",
    "\n",
    "username = parser.get('monant_credentials', \"username\")\n",
    "password = parser.get('monant_credentials', \"password\")"
   ]
  },
  {
   "cell_type": "markdown",
   "metadata": {},
   "source": [
    "## Get access_token"
   ]
  },
  {
   "cell_type": "code",
   "execution_count": 12,
   "metadata": {},
   "outputs": [],
   "source": [
    "url = 'https://api.monant.kinit.sk/auth'\n",
    "\n",
    "credentials = {\n",
    "    \"username\": username,\n",
    "    \"password\": password\n",
    "}\n",
    "\n",
    "headers = {'content-type': 'application/json'\n",
    "}\n",
    "\n",
    "x = requests.post(url, data = json.dumps(credentials), headers=headers)\n",
    "\n",
    "token = x.text\n",
    "token = token.split(\":\")\n",
    "token = token[1].replace('}', '')\n",
    "token = token.replace('\\\"', '')"
   ]
  },
  {
   "cell_type": "markdown",
   "metadata": {},
   "source": [
    "## Get .csv file with articles.ids"
   ]
  },
  {
   "cell_type": "code",
   "execution_count": null,
   "metadata": {},
   "outputs": [],
   "source": [
    "value = 0\n",
    "\n",
    "data = pd.DataFrame()\n",
    "data_tmp = pd.DataFrame()\n",
    "for i in range(0,7):\n",
    "    print(i)\n",
    "    query = {'monitoring_tags':'slovak',\n",
    "             'published_at_from':'2018-01-01',\n",
    "             'published_at_to':'2021-12-31',\n",
    "             'count':'50000',\n",
    "             'last_id':'{}'.format(value),\n",
    "             'id_only':'true'}\n",
    "    \n",
    "    headers = {'content-type': 'application/json',\n",
    "               'Accept-Charset': 'UTF-8',\n",
    "               'Authorization': 'JWT {}'.format(access_token)}\n",
    "    response = 'https://api.monant.kinit.sk/v1/articles'\n",
    "    response = requests.get(response, params=query, headers=headers)\n",
    "\n",
    "    data_tmp = response.json() \n",
    "    \n",
    "    value = data_tmp['ids'][-1]\n",
    "    \n",
    "    data = data.append(data_tmp['ids'])\n",
    "        \n",
    "\n",
    "print(data)\n",
    "data.columns=[\"ids\"]\n",
    "data.to_csv('sources/articles_id.csv', sep='\\t', encoding='utf-8', index=False)"
   ]
  },
  {
   "cell_type": "markdown",
   "metadata": {},
   "source": [
    "## Shuffle ids and get n articles"
   ]
  },
  {
   "cell_type": "code",
   "execution_count": null,
   "metadata": {},
   "outputs": [],
   "source": [
    "articles = pd.read_csv('sources/articles_id.csv')\n",
    "articles = articles['ids'].tolist()\n",
    "\n",
    "random.shuffle(articles)\n",
    "\n",
    "data = pd.DataFrame()\n",
    "data_tmp = pd.DataFrame()\n",
    "val = 0\n",
    "\n",
    "articles = articles[:20000]\n",
    "print(len(articles))\n",
    "for article_id in articles:   \n",
    "    headers = {'content-type': 'application/json',\n",
    "               'Accept-Charset': 'UTF-8',\n",
    "               'Authorization': 'JWT {}'.format(access_token)}\n",
    "    response = 'https://api.monant.kinit.sk/v1/articles/{}'.format(article_id)\n",
    "    response = requests.get(response, headers=headers)\n",
    "    print(response)\n",
    "    val = val + 1\n",
    "    print(val)\n",
    "\n",
    "    data_tmp = pd.json_normalize(response.json())\n",
    "    data = data.append(data_tmp)       \n",
    "\n",
    "print(data)"
   ]
  },
  {
   "cell_type": "markdown",
   "metadata": {},
   "source": [
    "## Pickle dataframe "
   ]
  },
  {
   "cell_type": "code",
   "execution_count": null,
   "metadata": {},
   "outputs": [],
   "source": [
    "data.to_pickle(\"sources/df_articles.pkl\")"
   ]
  }
 ],
 "metadata": {
  "kernelspec": {
   "display_name": "Python 3",
   "language": "python",
   "name": "python3"
  },
  "language_info": {
   "codemirror_mode": {
    "name": "ipython",
    "version": 3
   },
   "file_extension": ".py",
   "mimetype": "text/x-python",
   "name": "python",
   "nbconvert_exporter": "python",
   "pygments_lexer": "ipython3",
   "version": "3.8.10"
  }
 },
 "nbformat": 4,
 "nbformat_minor": 5
}
