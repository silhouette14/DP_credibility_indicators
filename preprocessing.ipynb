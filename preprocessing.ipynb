{
 "cells": [
  {
   "cell_type": "markdown",
   "metadata": {},
   "source": [
    "## Import libraries"
   ]
  },
  {
   "cell_type": "code",
   "execution_count": null,
   "metadata": {},
   "outputs": [],
   "source": [
    "import pandas as pd\n",
    "import numpy as np\n",
    "import json\n",
    "import requests\n",
    "import random\n",
    "import nltk\n",
    "import plotly.graph_objects as go\n",
    "import plotly.express as px\n",
    "import datetime\n",
    "nltk.download('punkt')"
   ]
  },
  {
   "cell_type": "markdown",
   "metadata": {},
   "source": [
    "## Unpickle .pkl file back to dataframe"
   ]
  },
  {
   "cell_type": "code",
   "execution_count": null,
   "metadata": {},
   "outputs": [],
   "source": [
    "data = pd.read_pickle(\"sources/df_articles.pkl\")\n",
    "data"
   ]
  },
  {
   "cell_type": "markdown",
   "metadata": {},
   "source": [
    "## Drop unnecessary columns"
   ]
  },
  {
   "cell_type": "code",
   "execution_count": null,
   "metadata": {},
   "outputs": [],
   "source": [
    "#data = data.drop(['monitor_name'], axis=1)\n",
    "data = data.drop(['article_origin', 'body'], axis=1)\n",
    "data = data.drop(['monitor_id', 'author.name'], axis=1)\n",
    "data = data.drop(['extracted_at', 'extraction_id', 'html_id', 'id', 'media'], axis=1)\n",
    "data = data.drop(['perex', 'raw_body', 'veracity', 'source.country', 'source.created_at', 'source.id', 'source.description', 'source.language', 'source.source_type_id', 'source.updated_at', 'other_info.keywords'], axis=1)\n",
    "data = data.drop(['url', 'author.id', 'feedback_facebook.comment_count', 'feedback_facebook.feedback_sum', 'feedback_facebook.id', 'feedback_facebook.reaction_count', 'feedback_facebook.related_object_url', 'feedback_facebook.share_count', 'other_info.tags', 'other_info.updated_at', 'source.category', 'source.url'], axis=1)\n",
    "data = data.drop(['author.source_id', 'feedback_facebook.comment_plugin_count', 'feedback_facebook', 'feedback_facebook.extracted_at'], axis=1)\n",
    "data"
   ]
  },
  {
   "cell_type": "markdown",
   "metadata": {},
   "source": [
    "## Delete rows with NaN values"
   ]
  },
  {
   "cell_type": "code",
   "execution_count": null,
   "metadata": {},
   "outputs": [],
   "source": [
    "data = data.dropna()\n",
    "data"
   ]
  },
  {
   "cell_type": "markdown",
   "metadata": {},
   "source": [
    "## print column['published_at'] to check format"
   ]
  },
  {
   "cell_type": "code",
   "execution_count": null,
   "metadata": {},
   "outputs": [],
   "source": [
    "print(data['published_at'])"
   ]
  },
  {
   "cell_type": "markdown",
   "metadata": {},
   "source": [
    "## Convert date to year"
   ]
  },
  {
   "cell_type": "code",
   "execution_count": null,
   "metadata": {
    "scrolled": true
   },
   "outputs": [],
   "source": [
    "# df = pd.to_datetime(data['published_at'],errors = 'coerce',format = '%Y-%m-%d', utc=True)\n",
    "# df = pd.DatetimeIndex(df).year\n",
    "# data['published_at'] = df\n",
    "# data"
   ]
  },
  {
   "cell_type": "markdown",
   "metadata": {},
   "source": [
    "## Boxplot outliers"
   ]
  },
  {
   "cell_type": "code",
   "execution_count": null,
   "metadata": {
    "scrolled": true
   },
   "outputs": [],
   "source": [
    "fig = px.box(data, y=\"published_at\", color_discrete_sequence=['indianred'])\n",
    "fig.show()"
   ]
  },
  {
   "cell_type": "markdown",
   "metadata": {},
   "source": [
    "## Filtered dataframe without outliers"
   ]
  },
  {
   "cell_type": "code",
   "execution_count": null,
   "metadata": {},
   "outputs": [],
   "source": [
    "#data = data[data['published_at'] > 2007]"
   ]
  },
  {
   "cell_type": "markdown",
   "metadata": {},
   "source": [
    "## Save edited dataframe to pickle"
   ]
  },
  {
   "cell_type": "code",
   "execution_count": null,
   "metadata": {},
   "outputs": [],
   "source": [
    "data.to_pickle(\"sources/df_articles_ap.pkl\")"
   ]
  },
  {
   "cell_type": "code",
   "execution_count": null,
   "metadata": {},
   "outputs": [],
   "source": [
    "data.reset_index(inplace = True, drop = True)\n",
    "\n",
    "data_monthly = pd.to_datetime(data.published_at, format='%Y-%m').dt.date\n",
    "data_monthly\n",
    "# data_monthly.sort_values()\n",
    "# df_by_month = data.iloc[data.published_at.sort_values().index].reset_index()\n",
    "\n",
    "\n",
    "# data_monthly = pd.to_datetime(data.published_at, format='%Y-%m-%d').dt.to_period('m')\n",
    "# data_monthly.sort_values().reset_index()\n",
    "# df_by_month = data_monthly.iloc[data_monthly.sort_values().index].reset_index()\n",
    "\n",
    "# df_month = df_by_month.published_at\n",
    "# #df_by_month.published_at.groupby(['published_at']).df_by_month.published_at.count()\n",
    "# print(df_month)\n",
    "# type(df_month)\n",
    "\n",
    "# df_month(columns=[\"published_at\"])\n",
    "\n",
    "# fig = px.line(articles_by_month, x='published_at', y='count', title='Articles by months between 2018 and 2021')\n",
    "# fig.show()"
   ]
  },
  {
   "cell_type": "code",
   "execution_count": null,
   "metadata": {},
   "outputs": [],
   "source": []
  }
 ],
 "metadata": {
  "kernelspec": {
   "display_name": "Python 3 (ipykernel)",
   "language": "python",
   "name": "python3"
  },
  "language_info": {
   "codemirror_mode": {
    "name": "ipython",
    "version": 3
   },
   "file_extension": ".py",
   "mimetype": "text/x-python",
   "name": "python",
   "nbconvert_exporter": "python",
   "pygments_lexer": "ipython3",
   "version": "3.8.10"
  }
 },
 "nbformat": 4,
 "nbformat_minor": 2
}
