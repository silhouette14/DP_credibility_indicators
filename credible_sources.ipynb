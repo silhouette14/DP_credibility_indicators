{
 "cells": [
  {
   "cell_type": "markdown",
   "metadata": {},
   "source": [
    "## Import libraries"
   ]
  },
  {
   "cell_type": "code",
   "execution_count": null,
   "metadata": {},
   "outputs": [],
   "source": [
    "import requests\n",
    "import re\n",
    "import json\n",
    "import pandas as pd\n",
    "import plotly.graph_objects as go\n",
    "import plotly.express as px"
   ]
  },
  {
   "cell_type": "markdown",
   "metadata": {},
   "source": [
    "## Unpickle .pkl file back to dataframe"
   ]
  },
  {
   "cell_type": "code",
   "execution_count": null,
   "metadata": {},
   "outputs": [],
   "source": [
    "#Raw data\n",
    "#data = pd.read_pickle(\"sources/df_articles.pkl\")\n",
    "#data = pd.read_pickle(\"sources/df_length_of_articles.pkl\")\n",
    "\n",
    "#Data after preprocessing\n",
    "data = pd.read_pickle(\"sources/df_articles_ap.pkl\")\n",
    "\n",
    "data.reset_index(inplace = True, drop = True)\n",
    "data"
   ]
  },
  {
   "cell_type": "markdown",
   "metadata": {},
   "source": [
    "## Load konspiratori.sk list\n"
   ]
  },
  {
   "cell_type": "code",
   "execution_count": null,
   "metadata": {},
   "outputs": [],
   "source": [
    "with open('sources/zoznam_konspiratori.txt') as f:\n",
    "    lines = f.readlines()\n",
    "   #print(lines)\n",
    "    \n",
    "list_konspiratori = [x.strip() for x in lines] "
   ]
  },
  {
   "cell_type": "markdown",
   "metadata": {},
   "source": [
    "## Load mediabiasfactcheck.com list"
   ]
  },
  {
   "cell_type": "code",
   "execution_count": null,
   "metadata": {},
   "outputs": [],
   "source": [
    "with open('sources/zoznam_mediabiasfactcheck.txt') as f:\n",
    "    lines = f.readlines()\n",
    "   #print(lines)\n",
    "    \n",
    "list_mediabiasfactcheck = [x.strip() for x in lines] "
   ]
  },
  {
   "cell_type": "markdown",
   "metadata": {},
   "source": [
    "## Merge of the lists"
   ]
  },
  {
   "cell_type": "code",
   "execution_count": null,
   "metadata": {},
   "outputs": [],
   "source": [
    "list_konspiratori.extend(list_mediabiasfactcheck)\n",
    "list_konspiratori"
   ]
  },
  {
   "cell_type": "markdown",
   "metadata": {},
   "source": [
    "## For test"
   ]
  },
  {
   "cell_type": "code",
   "execution_count": null,
   "metadata": {},
   "outputs": [],
   "source": [
    "for i in range(len(data)):\n",
    "    for website in list_konspiratori:\n",
    "         domain = re.findall(\"https?://(?:[-\\w.]|(?:%[\\da-fA-F]{2}))+\",data['raw_body'][i])\n",
    "         print(domain)\n",
    "        "
   ]
  },
  {
   "cell_type": "code",
   "execution_count": null,
   "metadata": {},
   "outputs": [],
   "source": [
    "txt = data['raw_body'][3]\n",
    "regex = \"HSP\"\n",
    "#txt = re.compile(r'HSP', re.I)\n",
    "\n",
    "# domains = re.findall(p,txt)\n",
    "# domains = list(set(domains))\n",
    "\n",
    "print(txt)\n",
    "# for domain in domains:\n",
    "#     print(domain)\n",
    "\n",
    "text = 'HSP'\n",
    "\n",
    "if text in txt:\n",
    "    print(\"Found!\")\n",
    "else:\n",
    "    print(\"Not found!\")\n"
   ]
  },
  {
   "cell_type": "markdown",
   "metadata": {},
   "source": [
    "## Check usage of non credible sources in article + add new collumn"
   ]
  },
  {
   "cell_type": "code",
   "execution_count": null,
   "metadata": {},
   "outputs": [],
   "source": [
    "new_col_source = []\n",
    "\n",
    "for article_num in range(len(data)):\n",
    "    domains = []\n",
    "    regex = \"https?://(?:[-\\w.]|(?:%[\\da-fA-F]{2}))+\"\n",
    "    p = re.compile(regex)\n",
    "    \n",
    "    raw_body = data['raw_body'][article_num]\n",
    "    print(raw_body)\n",
    "    \n",
    "    domains = re.findall(p,raw_body)\n",
    "    domains = list(set(domains))\n",
    "    print(domains)\n",
    "    \n",
    "    #check list if contains URL which consist of source.name, if yes remove them \n",
    "    domains = [source for source in domains if not data['source.name'][article_num] in source]\n",
    "        \n",
    "    \n",
    "    print(domains)\n",
    "    print(data['source.name'][article_num])\n",
    "    score = 0\n",
    "    for website in list_konspiratori:\n",
    "        if score == 1:\n",
    "            break\n",
    "        for domain in domains:\n",
    "            if website in domain:\n",
    "                score = 1\n",
    "                break\n",
    "            else:\n",
    "                score = 0\n",
    "    new_col_source.append(score)\n",
    "    score = 0\n",
    "\n",
    "data['non_credible_source'] = new_col_source\n",
    "print(data[['source.name', 'source_name_cred', 'non_credible_source']])"
   ]
  },
  {
   "cell_type": "code",
   "execution_count": null,
   "metadata": {},
   "outputs": [],
   "source": [
    "data[['source.name', 'source_name_cred', 'non_credible_source']].source_name= 'hlavnespravy.sk' &  source_name_cred = 1"
   ]
  },
  {
   "cell_type": "code",
   "execution_count": null,
   "metadata": {},
   "outputs": [],
   "source": [
    "data['non_credible_source'].value_counts()[0]"
   ]
  },
  {
   "cell_type": "code",
   "execution_count": null,
   "metadata": {},
   "outputs": [],
   "source": [
    "data['non_credible_source'].value_counts()[1]"
   ]
  },
  {
   "cell_type": "code",
   "execution_count": null,
   "metadata": {},
   "outputs": [],
   "source": [
    "data['source_name_cred'].value_counts()[0]"
   ]
  },
  {
   "cell_type": "code",
   "execution_count": null,
   "metadata": {},
   "outputs": [],
   "source": [
    "data['source_name_cred'].value_counts()[1]\n"
   ]
  },
  {
   "cell_type": "code",
   "execution_count": null,
   "metadata": {},
   "outputs": [],
   "source": [
    "data.to_pickle(\"sources/data_credible_sources.pkl\")"
   ]
  },
  {
   "cell_type": "code",
   "execution_count": null,
   "metadata": {},
   "outputs": [],
   "source": [
    "data = pd.read_pickle(\"sources/data_credible_sources.pkl\")\n",
    "data"
   ]
  },
  {
   "cell_type": "code",
   "execution_count": null,
   "metadata": {},
   "outputs": [],
   "source": [
    "pd.set_option('display.max_rows', None)\n",
    "data[(data['source.name'] == 'hlavnespravy.sk') & (data['source_name_cred'] == 1)]"
   ]
  },
  {
   "cell_type": "code",
   "execution_count": null,
   "metadata": {},
   "outputs": [],
   "source": []
  },
  {
   "cell_type": "code",
   "execution_count": null,
   "metadata": {},
   "outputs": [],
   "source": []
  }
 ],
 "metadata": {
  "kernelspec": {
   "display_name": "Python 3",
   "language": "python",
   "name": "python3"
  },
  "language_info": {
   "codemirror_mode": {
    "name": "ipython",
    "version": 3
   },
   "file_extension": ".py",
   "mimetype": "text/x-python",
   "name": "python",
   "nbconvert_exporter": "python",
   "pygments_lexer": "ipython3",
   "version": "3.8.10"
  }
 },
 "nbformat": 4,
 "nbformat_minor": 4
}
